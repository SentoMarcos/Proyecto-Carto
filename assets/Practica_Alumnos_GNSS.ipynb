{
 "cells": [
  {
   "cell_type": "markdown",
   "id": "6084c3a5",
   "metadata": {},
   "source": [
    "Dr. Jesús Martí Gavilá. Departamento de Ingeniería Cartográfica, Geodesia y fotogrametría\n",
    "<font color=\"blue\" ><h1 align=center>PRÁCTICA 7</h1> <p> <h1 align=center> CURSO BÁSICO PYTHON: FICHERO GPX</h1></font>\n",
    "\n",
    "<a href=\"http://www.upv.es/titulaciones/GTI/indexc.html\"><img src = \"http://www.upv.es/imagenes/marcaUPVN1.png\" width =200 ></a>\n",
    "\n",
    "<h2 align=center>Grado Tecnologías Interactivas | Tecnologías de la Información Geográfica</h2>\n",
    "\n"
   ]
  },
  {
   "cell_type": "markdown",
   "id": "50e45167",
   "metadata": {
    "jp-MarkdownHeadingCollapsed": true
   },
   "source": [
    "# TAREA\n",
    "<div class=\"alert alert-block alert-info\" style=\"margin-top: 20px\">\n",
    "\n",
    "<b>Realizar un análisis de rendimiento a partir de un fichero GNSS con waypoints en formato GPX.</b>\n",
    "<p>\n",
    "    \n",
    "<h3>El resultado a obtener sera:</h3>  <p> \n",
    "   <li>\n",
    "       <a>Un Dataframe en formato HTML con los siguientes campos:<p><p>\n",
    "'Punto','Latitud','Longitud', 'Cota (m)', 'Hora', 'Distancia (m)','Dist_O (m)', 'Pendiente (%)', 'Velocidad (km/h)','Orientación (º)','Tiempo'</a><p>\n",
    "   </li>\n",
    "        \n",
    "   <li>\n",
    "       <a>Gráfico con los valores de distancia en el eje X y valores de pendiente y velocidad en la Y</a>\n",
    "   </li>\n",
    "\n",
    "   <li>\n",
    "       <a>Mapa interactivo</a>\n",
    "   </li>\n",
    "</div>"
   ]
  },
  {
   "cell_type": "markdown",
   "id": "e0942a8b",
   "metadata": {},
   "source": [
    "# Estructura GPX e importación de librerías"
   ]
  },
  {
   "cell_type": "code",
   "execution_count": 4,
   "id": "a160db7d",
   "metadata": {},
   "outputs": [],
   "source": [
    "\n",
    "\"\"\"\n",
    "Creado Viernes 14 Oct 18:22:39 2022, @autor/es: Sento Marcos Ibarra\n",
    "FORMATO EJEMPLO GPX\n",
    "<wpt lat=\"38.968484\" lon=\"-0.148688\">\n",
    "\t<ele>-6.847729</ele>\n",
    "\t<time>2020-10-06T15:42:19Z</time>\n",
    "\t<name>001</name>\n",
    "\t<sym>Flag, Blue</sym>\n",
    "</wpt>\n",
    "\"\"\"\n",
    "import pandas as pd\n",
    "import xml.etree.cElementTree as et\n",
    "import os\n",
    "import math as m\n",
    "from datetime import datetime\n",
    "import matplotlib.pyplot as plt"
   ]
  },
  {
   "cell_type": "markdown",
   "id": "5c812b77",
   "metadata": {},
   "source": [
    "# Fichero de entrada y Dataframe de salida"
   ]
  },
  {
   "cell_type": "code",
   "execution_count": 6,
   "id": "fc46c20a",
   "metadata": {},
   "outputs": [
    {
     "name": "stdin",
     "output_type": "stream",
     "text": [
      "Introduce nombre archivo GPX (sin extensión): Waypoints\n"
     ]
    }
   ],
   "source": [
    "# Introducción de datos. Solicitar al usuario el nombre del fichero sin extensión.\n",
    "gpx = input(\"Introduce nombre archivo GPX (sin extensión):\")\n",
    "path = os.getcwd()\n",
    "pathgpx = path + '/' + gpx + \".gpx\"\n",
    "# Este nombre también se utilizará para crear el fichero html\n",
    "pathhtml = path + '/' + gpx + \".html\"\n"
   ]
  },
  {
   "cell_type": "code",
   "execution_count": 7,
   "id": "313a36d2",
   "metadata": {},
   "outputs": [],
   "source": [
    "# Accedemos al XML y creamos un Dataframe con los campos arriba indicados\n",
    "docxml = et.parse(pathgpx)\n",
    "raiz = docxml.getroot()\n",
    "puntos = len(raiz)-1\n",
    "columnas = ['Punto','Latitud','Longitud', 'Cota (m)', 'Hora', 'Distancia (m)','Dist_O (m)', 'Pendiente (%)', 'Velocidad (km/h)','Orientación (º)','Tiempo']\n",
    "df = pd.DataFrame(columns=columnas)"
   ]
  },
  {
   "cell_type": "markdown",
   "id": "4a45ca4f",
   "metadata": {},
   "source": [
    "# Funciones de cálculo"
   ]
  },
  {
   "cell_type": "code",
   "execution_count": 9,
   "id": "73f1afd1",
   "metadata": {},
   "outputs": [],
   "source": [
    "import math as m\n",
    "import pandas as pd\n",
    "import matplotlib.pyplot as plt\n",
    "\n",
    "# Cálculo de la distancia parcial y al origen. función distancias\n",
    "def distancias(latA, longA, latB, longB):\n",
    "    vlong = m.cos(abs(longB - longA))\n",
    "    d = m.acos(m.sin(latA) * m.sin(latB) + (m.cos(latA) * m.cos(latB) * vlong))\n",
    "    dr = 111.11 * d  # Convertimos a kilómetros\n",
    "    return d, dr * 1000  # Devolvemos la distancia parcial en metros\n"
   ]
  },
  {
   "cell_type": "code",
   "execution_count": 10,
   "id": "911b9b39",
   "metadata": {},
   "outputs": [],
   "source": [
    "# Cálculo del acimut. Verificar la posición del punto B. funcion orientación\n",
    "def orientacion (latA, latB,d):\n",
    "    AB = m.acos((m.sin (latA)-m.sin (latB)*m.cos(d))/(m.cos(latA)*m.sin(d)))\n",
    "    if m.degrees(AB) < 0:\n",
    "        return m.degrees(AB + 360)\n",
    "    else:\n",
    "        return m.degrees(AB)"
   ]
  },
  {
   "cell_type": "code",
   "execution_count": 11,
   "id": "1402f2e8",
   "metadata": {},
   "outputs": [],
   "source": [
    "# Cálculo de la pendiente. En %. función pendiente\n",
    "def pendiente(ele1, ele2, dist):\n",
    "    pendiente_percent = ((ele2 - ele1) / dist) * 100\n",
    "    pendiente_grad = m.degrees(m.atan((ele2 - ele1) / dist))\n",
    "    return pendiente_grad, pendiente_percent, dist\n",
    "\n"
   ]
  },
  {
   "cell_type": "code",
   "execution_count": 12,
   "id": "2bb324c1",
   "metadata": {},
   "outputs": [],
   "source": [
    "# Cálculo de la velocidad. función velocidad\n",
    "def velocidad(time1, time2, dist):\n",
    "    t1 = pd.to_datetime(time1)\n",
    "    t2 = pd.to_datetime(time2)\n",
    "    tiempo_total = (t2 - t1).total_seconds()  # Tiempo en segundos\n",
    "    if tiempo_total == 0:\n",
    "        vel_kmh = 0\n",
    "    else:\n",
    "        vel_kmh = (dist / 1000) / (tiempo_total / 3600)  # Velocidad en km/h\n",
    "    return tiempo_total, vel_kmh\n",
    "    # Supongamos que `raiz` es un objeto con datos XML y `puntos` es el número de puntos\n",
    "columnas = [\"ID\", \"Latitud\", \"Longitud\", \"Elevación (m)\", \"Tiempo\", \"Dist Parcial (m)\", \"Dist Acumulada (m)\", \"Pendiente (%)\", \"Velocidad (km/h)\", \"Acimut\", \"Tiempo (s)\"]\n",
    "df = pd.DataFrame(columns=columnas)\n"
   ]
  },
  {
   "cell_type": "markdown",
   "id": "bd19bdd1",
   "metadata": {},
   "source": [
    "# Obtención de los datos de entrada y llamada a funciones"
   ]
  },
  {
   "cell_type": "code",
   "execution_count": 14,
   "id": "4dbdafbf",
   "metadata": {},
   "outputs": [],
   "source": [
    "waypoints = range (1,puntos,1)\n",
    "n = 0.00\n",
    "for i in waypoints:\n",
    "    # Datos del punto A\n",
    "    wpt1 = raiz[i]\n",
    "    lat1_g = float(wpt1.get(\"lat\"))\n",
    "    lon1_g = float(wpt1.get(\"lon\"))\n",
    "    lat1 = m.radians (lat1_g)\n",
    "    lon1 = m.radians (lon1_g)\n",
    "    ele1 = round(float(wpt1[0].text),3)\n",
    "    time1 = wpt1[1].text\n",
    "    if i == 1:\n",
    "        df_1 = pd.DataFrame([[i,lat1_g,lon1_g,ele1,time1,n,n,n,n,n,n]],columns = list(columnas))\n",
    "        df = pd.concat([df if not df.empty else None,df_1],ignore_index=True)  #controla si un dataframe esta vacio   \n",
    "# Incrementamos puntos       \n",
    "    i = i+1\n",
    "\n",
    "# Datos del punto B\n",
    "    wpt2 = raiz[i]\n",
    "    lat2_g = float(wpt2.get(\"lat\"))\n",
    "    lon2_g = float(wpt2.get(\"lon\"))\n",
    "    lat2 = m.radians(lat2_g)\n",
    "    lon2 = m.radians(lon2_g)\n",
    "    ele2 = round(float(wpt2[0].text),3)\n",
    "    time2 = wpt2[1].text\n",
    "\n",
    "# Llamar a las diferentes funciones y añadir los datos resultantes al Dataframe\n",
    "    d, dr = distancias(lat1,lon1,lat2,lon2) #Introducir los parámetros necesarios para realizar el cálculo\n",
    "    acimut = orientacion(lat1,lat2,d) #Introducir los parámetros necesarios para realizar el cálculo\n",
    "    peng, pend, dg = pendiente(ele1, ele2, dr) #Introducir los parámetros necesarios para realizar el cálculo\n",
    "    tiempo, velkmh = velocidad(time1, time2, dr)#Introducir los parámetros necesarios para realizar el cálculo\n",
    "    df_1 = pd.DataFrame([[i,lat2_g,lon2_g,ele2,time2,dg,0.00,pend,velkmh,acimut,tiempo]],columns = list(columnas))\n",
    "    df = pd.concat([df,df_1],ignore_index=True )\n",
    "    \n",
    "    df['Dist Acumulada (m)'] = df['Dist Parcial (m)'].cumsum() # crear un comando para rellenar df['Dist_O (m)']"
   ]
  },
  {
   "cell_type": "markdown",
   "id": "7581b6a5",
   "metadata": {},
   "source": [
    "# Impresión y exportación de los obtenidos"
   ]
  },
  {
   "cell_type": "code",
   "execution_count": 16,
   "id": "8f376a38",
   "metadata": {},
   "outputs": [
    {
     "name": "stdout",
     "output_type": "stream",
     "text": [
      "<table border=\"1\" class=\"dataframe\">\n",
      "  <thead>\n",
      "    <tr style=\"text-align: right;\">\n",
      "      <th>ID</th>\n",
      "      <th>Latitud</th>\n",
      "      <th>Longitud</th>\n",
      "      <th>Elevación (m)</th>\n",
      "      <th>Tiempo</th>\n",
      "      <th>Dist Parcial (m)</th>\n",
      "      <th>Dist Acumulada (m)</th>\n",
      "      <th>Pendiente (%)</th>\n",
      "      <th>Velocidad (km/h)</th>\n",
      "      <th>Acimut</th>\n",
      "      <th>Tiempo (s)</th>\n",
      "    </tr>\n",
      "  </thead>\n",
      "  <tbody>\n",
      "    <tr>\n",
      "      <td>1</td>\n",
      "      <td>38.968484</td>\n",
      "      <td>-0.148688</td>\n",
      "      <td>-6.848</td>\n",
      "      <td>2020-10-06T15:42:19Z</td>\n",
      "      <td>0.000000</td>\n",
      "      <td>0.000000</td>\n",
      "      <td>0.000000</td>\n",
      "      <td>0.000000</td>\n",
      "      <td>0.000000</td>\n",
      "      <td>0.0</td>\n",
      "    </tr>\n",
      "    <tr>\n",
      "      <td>2</td>\n",
      "      <td>38.967718</td>\n",
      "      <td>-0.150631</td>\n",
      "      <td>5.751</td>\n",
      "      <td>2020-10-06T15:44:55Z</td>\n",
      "      <td>3.284641</td>\n",
      "      <td>3.284641</td>\n",
      "      <td>383.573134</td>\n",
      "      <td>0.075799</td>\n",
      "      <td>63.111422</td>\n",
      "      <td>156.0</td>\n",
      "    </tr>\n",
      "    <tr>\n",
      "      <td>3</td>\n",
      "      <td>38.967415</td>\n",
      "      <td>-0.151293</td>\n",
      "      <td>3.847</td>\n",
      "      <td>2020-10-06T15:45:44Z</td>\n",
      "      <td>1.158248</td>\n",
      "      <td>4.442889</td>\n",
      "      <td>-164.386160</td>\n",
      "      <td>0.085096</td>\n",
      "      <td>59.514985</td>\n",
      "      <td>49.0</td>\n",
      "    </tr>\n",
      "    <tr>\n",
      "      <td>4</td>\n",
      "      <td>38.965885</td>\n",
      "      <td>-0.151144</td>\n",
      "      <td>4.562</td>\n",
      "      <td>2020-10-06T15:47:40Z</td>\n",
      "      <td>2.975523</td>\n",
      "      <td>7.418413</td>\n",
      "      <td>24.029386</td>\n",
      "      <td>0.092344</td>\n",
      "      <td>4.313670</td>\n",
      "      <td>116.0</td>\n",
      "    </tr>\n",
      "    <tr>\n",
      "      <td>5</td>\n",
      "      <td>38.965216</td>\n",
      "      <td>-0.150998</td>\n",
      "      <td>5.601</td>\n",
      "      <td>2020-10-06T15:48:45Z</td>\n",
      "      <td>1.315894</td>\n",
      "      <td>8.734306</td>\n",
      "      <td>78.957748</td>\n",
      "      <td>0.072880</td>\n",
      "      <td>9.627392</td>\n",
      "      <td>65.0</td>\n",
      "    </tr>\n",
      "    <tr>\n",
      "      <td>6</td>\n",
      "      <td>38.965000</td>\n",
      "      <td>-0.150899</td>\n",
      "      <td>4.004</td>\n",
      "      <td>2020-10-06T15:49:00Z</td>\n",
      "      <td>0.444682</td>\n",
      "      <td>9.178988</td>\n",
      "      <td>-359.133260</td>\n",
      "      <td>0.106724</td>\n",
      "      <td>19.615185</td>\n",
      "      <td>15.0</td>\n",
      "    </tr>\n",
      "    <tr>\n",
      "      <td>7</td>\n",
      "      <td>38.964634</td>\n",
      "      <td>-0.150661</td>\n",
      "      <td>4.727</td>\n",
      "      <td>2020-10-06T15:49:42Z</td>\n",
      "      <td>0.795324</td>\n",
      "      <td>9.974312</td>\n",
      "      <td>90.906342</td>\n",
      "      <td>0.068171</td>\n",
      "      <td>26.820876</td>\n",
      "      <td>42.0</td>\n",
      "    </tr>\n",
      "    <tr>\n",
      "      <td>8</td>\n",
      "      <td>38.963839</td>\n",
      "      <td>-0.150091</td>\n",
      "      <td>7.208</td>\n",
      "      <td>2020-10-06T15:51:12Z</td>\n",
      "      <td>1.765076</td>\n",
      "      <td>11.739388</td>\n",
      "      <td>140.560546</td>\n",
      "      <td>0.070603</td>\n",
      "      <td>29.137490</td>\n",
      "      <td>90.0</td>\n",
      "    </tr>\n",
      "    <tr>\n",
      "      <td>9</td>\n",
      "      <td>38.962955</td>\n",
      "      <td>-0.150394</td>\n",
      "      <td>9.550</td>\n",
      "      <td>2020-10-06T15:52:27Z</td>\n",
      "      <td>1.774122</td>\n",
      "      <td>13.513510</td>\n",
      "      <td>132.008941</td>\n",
      "      <td>0.085158</td>\n",
      "      <td>14.920475</td>\n",
      "      <td>75.0</td>\n",
      "    </tr>\n",
      "    <tr>\n",
      "      <td>10</td>\n",
      "      <td>38.962942</td>\n",
      "      <td>-0.147204</td>\n",
      "      <td>1.780</td>\n",
      "      <td>2020-10-06T15:56:15Z</td>\n",
      "      <td>4.810132</td>\n",
      "      <td>18.323642</td>\n",
      "      <td>-161.534012</td>\n",
      "      <td>0.075949</td>\n",
      "      <td>89.698707</td>\n",
      "      <td>228.0</td>\n",
      "    </tr>\n",
      "    <tr>\n",
      "      <td>11</td>\n",
      "      <td>38.963695</td>\n",
      "      <td>-0.145611</td>\n",
      "      <td>2.238</td>\n",
      "      <td>2020-10-06T15:58:20Z</td>\n",
      "      <td>2.811040</td>\n",
      "      <td>21.134682</td>\n",
      "      <td>16.292905</td>\n",
      "      <td>0.080958</td>\n",
      "      <td>121.295680</td>\n",
      "      <td>125.0</td>\n",
      "    </tr>\n",
      "  </tbody>\n",
      "</table>\n",
      "El archivo HTML se ha guardado en: C:\\Users\\javie/Waypoints.html\n"
     ]
    }
   ],
   "source": [
    "# Imprimir los valores en formato HTML\n",
    "print(df.to_html(index=False))\n",
    "# Guardar el DataFrame en un archivo HTML\n",
    "with open(pathhtml, \"w\") as file:\n",
    "    file.write(df.to_html(index=False))\n",
    "\n",
    "print(f\"El archivo HTML se ha guardado en: {pathhtml}\")\n"
   ]
  },
  {
   "cell_type": "code",
   "execution_count": null,
   "id": "75cf05e2-4c60-472e-b1ac-2c7ccc873e94",
   "metadata": {},
   "outputs": [],
   "source": []
  },
  {
   "cell_type": "code",
   "execution_count": 17,
   "id": "bf732fb3",
   "metadata": {},
   "outputs": [
    {
     "data": {
      "image/png": "[encoded data removed]",
      "text/plain": [
       "<Figure size 640x480 with 1 Axes>"
      ]
     },
     "metadata": {},
     "output_type": "display_data"
    }
   ],
   "source": [
    "# Plotear el gráfico de rendimiento y guardar en JPG\n",
    "fig, ax = plt.subplots()\n",
    "plt.plot(df[\"Dist Acumulada (m)\"], df['Pendiente (%)'], marker=\"o\", label=\"Pendiente (%)\")\n",
    "plt.plot(df[\"Dist Acumulada (m)\"], df['Velocidad (km/h)'], marker=\"x\", label=\"Velocidad (km/h)\")\n",
    "\n",
    "# Leyendas, título, etiquetas de los ejes\n",
    "plt.legend()\n",
    "plt.title(\"Gráfico de Pendiente y Velocidad\")\n",
    "plt.xlabel(\"Distancia Acumulada (m)\")\n",
    "plt.ylabel(\"Pendiente (%) / Velocidad (km/h)\")\n",
    "plt.grid()\n",
    "\n",
    "# Exportar como imagen JPG\n",
    "plt.savefig(\"grafico_rendimiento.jpg\")\n",
    "plt.show()"
   ]
  },
  {
   "cell_type": "markdown",
   "id": "67e312d2",
   "metadata": {},
   "source": [
    "# Mapa interactivo con Folium. Código ejemplo"
   ]
  },
  {
   "cell_type": "code",
   "execution_count": 19,
   "id": "88415635",
   "metadata": {},
   "outputs": [
    {
     "ename": "SyntaxError",
     "evalue": "invalid syntax (4143521956.py, line 2)",
     "output_type": "error",
     "traceback": [
      "\u001b[1;36m  Cell \u001b[1;32mIn[19], line 2\u001b[1;36m\u001b[0m\n\u001b[1;33m    ......................................................................................................\u001b[0m\n\u001b[1;37m       ^\u001b[0m\n\u001b[1;31mSyntaxError\u001b[0m\u001b[1;31m:\u001b[0m invalid syntax\n"
     ]
    }
   ],
   "source": [
    "#Instalar primeramente la libreria folium\n",
    "......................................................................................................\n",
    "\n",
    "#Código creación fichero decoordenadas\n",
    "df.loc[:,['Latitud','Longitud']].to_csv('coordenadas.csv',header=True, index=False) #obtienes los valores de latitud y longitud y creas un fichero de coordenadas\n",
    "lista_geo = pd.read_csv('coordenadas.csv').to_numpy().tolist()\n",
    "\n",
    "#Creación del mapa interactivo\n",
    "import folium\n",
    "from folium import plugins\n",
    "m = folium.Map()\n",
    "folium.plugins.AntPath(locations = lista_geo, popup = 'Ruta 20/11/2023', reverse=\"True\", dash_array=[10, 20], color='red', pulse_color = 'blue').add_to(m)\n",
    "m.fit_bounds(m.get_bounds())\n",
    "m\n"
   ]
  },
  {
   "cell_type": "code",
   "execution_count": null,
   "id": "520400aa",
   "metadata": {},
   "outputs": [],
   "source": []
  }
 ],
 "metadata": {
  "kernelspec": {
   "display_name": "Python 3 (ipykernel)",
   "language": "python",
   "name": "python3"
  },
  "language_info": {
   "codemirror_mode": {
    "name": "ipython",
    "version": 3
   },
   "file_extension": ".py",
   "mimetype": "text/x-python",
   "name": "python",
   "nbconvert_exporter": "python",
   "pygments_lexer": "ipython3",
   "version": "3.12.7"
  }
 },
 "nbformat": 4,
 "nbformat_minor": 5
}
