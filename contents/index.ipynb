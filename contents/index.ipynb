# Índice de Cuadernos del Proyecto Cartografía

A continuación, encontrarás una lista de todos los cuadernos disponibles en este proyecto. Haz clic en cualquiera de los enlaces para abrirlo directamente en Google Colab.

---

## Cuadernos Disponibles:

1. [Google Earth Engine para Python (GEE)](https://colab.research.google.com/github/SentoMarcos/Proyecto-Carto/blob/sento/contents/GEE_SentoMarcosIbarra.ipynb)

2. [Análisis con Folium](https://colab.research.google.com/github/SentoMarcos/Proyecto-Carto/blob/sento/contents/Folium_SentoMarcosIbarra.ipynb)

3. [Cuaderno de Ejemplo 3](https://colab.research.google.com/github/SentoMarcos/Proyecto-Carto/blob/sento/contents/Ejemplo_3.ipynb)

---

Recuerda que puedes agregar más cuadernos o actualizar los enlaces en cualquier momento. ¡Disfruta trabajando con tus cuadernos interactivos!

---

_Nota_: Si necesitas ayuda para personalizar el índice o agregar funcionalidades, no dudes en pedírmelo.
