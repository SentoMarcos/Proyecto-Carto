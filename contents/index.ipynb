{
  "notebook_index": [
    {
      "title": "Google Earth Engine para Python (GEE)",
      "url": "https://colab.research.google.com/github/SentoMarcos/Proyecto-Carto/blob/sento/contents/GEE_SentoMarcosIbarra.ipynb"
    },
    {
      "title": "Análisis con Folium",
      "url": "https://colab.research.google.com/github/SentoMarcos/Proyecto-Carto/blob/sento/contents/Folium_SentoMarcosIbarra.ipynb"
    },
    {
      "title": "Cuaderno de Ejemplo 3",
      "url": "https://colab.research.google.com/github/SentoMarcos/Proyecto-Carto/blob/sento/contents/Ejemplo_3.ipynb"
    }
  ],
  "note": "Recuerda que puedes agregar más cuadernos o actualizar los enlaces en cualquier momento. ¡Disfruta trabajando con tus cuadernos interactivos!"
}